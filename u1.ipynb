{
 "cells": [
  {
   "cell_type": "markdown",
   "id": "45f81688-9ae9-4792-9cb7-18c4de6e52b9",
   "metadata": {},
   "source": [
    "4.Hafta dersde yapılan kodlamalar"
   ]
  },
  {
   "cell_type": "markdown",
   "id": "55149288-1f8b-4767-bf2d-14b8554c212b",
   "metadata": {},
   "source": [
    "Bir görüntü 2 ya da 3 boyutlu dizi olduğu için numpy küyüphanesi çalışmasını iyi anlamamız gerekiyor. Bu sebeple önce numoy kütüphanesi dahil edilmeli"
   ]
  },
  {
   "cell_type": "code",
   "execution_count": 1,
   "id": "25dc352f-a0df-4664-906f-67e7893efc11",
   "metadata": {},
   "outputs": [],
   "source": [
    "import numpy as np"
   ]
  },
  {
   "cell_type": "markdown",
   "id": "e31e4bd9-1236-4340-bf0d-2037be02a80d",
   "metadata": {},
   "source": [
    "python liste tipi şu şekilde oluşturulabilir ve tipini görmek için"
   ]
  },
  {
   "cell_type": "code",
   "execution_count": 2,
   "id": "890ca574-3b60-4de6-995f-ea2d90f2c9cc",
   "metadata": {},
   "outputs": [
    {
     "data": {
      "text/plain": [
       "list"
      ]
     },
     "execution_count": 2,
     "metadata": {},
     "output_type": "execute_result"
    }
   ],
   "source": [
    "l = [1,2,3]\n",
    "type(l)"
   ]
  },
  {
   "cell_type": "markdown",
   "id": "c96fc1cc-10a9-4418-9d21-291fefb595ff",
   "metadata": {},
   "source": [
    "bir listeden numpay dizisi oluşturmak için"
   ]
  },
  {
   "cell_type": "code",
   "execution_count": 3,
   "id": "f5f12418-bcae-4f4e-8ea9-4156bdade473",
   "metadata": {},
   "outputs": [
    {
     "data": {
      "text/plain": [
       "array([1, 2, 3])"
      ]
     },
     "execution_count": 3,
     "metadata": {},
     "output_type": "execute_result"
    }
   ],
   "source": [
    "a = np.array(l)\n",
    "a"
   ]
  },
  {
   "cell_type": "code",
   "execution_count": 4,
   "id": "d23af07e-9efc-40a3-bac7-1e57e71b09f9",
   "metadata": {},
   "outputs": [
    {
     "data": {
      "text/plain": [
       "numpy.ndarray"
      ]
     },
     "execution_count": 4,
     "metadata": {},
     "output_type": "execute_result"
    }
   ],
   "source": [
    "type(a)"
   ]
  },
  {
   "cell_type": "markdown",
   "id": "c1883188-27c7-4a98-a2b3-fb16dfa4af45",
   "metadata": {},
   "source": [
    "sıralı elemanlardan oluşan bir dizi olulştumak için arange metodu kullanılabilir.  https://numpy.org/doc/stable/reference/generated/numpy.arange.html"
   ]
  },
  {
   "cell_type": "code",
   "execution_count": 5,
   "id": "cefe3682-2dfc-49aa-b893-31f9e5810400",
   "metadata": {},
   "outputs": [
    {
     "data": {
      "text/plain": [
       "array([0, 1, 2, 3, 4, 5, 6, 7, 8, 9])"
      ]
     },
     "execution_count": 5,
     "metadata": {},
     "output_type": "execute_result"
    }
   ],
   "source": [
    "np.arange(0,10)"
   ]
  },
  {
   "cell_type": "markdown",
   "id": "5be27538-9fdd-4bb4-9083-6bcb65550504",
   "metadata": {},
   "source": [
    "görüntü işlemede sıklıkla sıfırlardan ya da abirlerden oluşan görüntüler üretmek isteriz. bu maksatla zeros ve ones metotları kullanılabilir"
   ]
  },
  {
   "cell_type": "code",
   "execution_count": 6,
   "id": "86930db5-d2e6-4d5e-9a69-7acc8847d467",
   "metadata": {},
   "outputs": [
    {
     "data": {
      "text/plain": [
       "array([[0., 0., 0.],\n",
       "       [0., 0., 0.]])"
      ]
     },
     "execution_count": 6,
     "metadata": {},
     "output_type": "execute_result"
    }
   ],
   "source": [
    "z=np.zeros((2,3))\n",
    "z"
   ]
  },
  {
   "cell_type": "code",
   "execution_count": 7,
   "id": "6e8dc7f8-5a59-49a2-a553-bee7714495a0",
   "metadata": {},
   "outputs": [
    {
     "data": {
      "text/plain": [
       "array([[1., 1., 1.],\n",
       "       [1., 1., 1.]])"
      ]
     },
     "execution_count": 7,
     "metadata": {},
     "output_type": "execute_result"
    }
   ],
   "source": [
    "np.ones((2,3))"
   ]
  },
  {
   "cell_type": "markdown",
   "id": "e8ece9b8-cafc-425b-9d1c-1049dd2469c8",
   "metadata": {},
   "source": [
    "rastgele değerlerden oluşan gri seviye tek band bir görüntü elde etmek istersek random  kullanılabilir. gri seviye görüntü 8 bitlik piksellerden oluşacağı için değerler [0 255] arasında olacaktır"
   ]
  },
  {
   "cell_type": "code",
   "execution_count": 8,
   "id": "a5dbc515-d343-4277-8291-707bdd5bb55a",
   "metadata": {},
   "outputs": [
    {
     "data": {
      "text/plain": [
       "array([[ 68, 214,  37, 206, 159,  30, 215,  35,  46,  29],\n",
       "       [164,  43, 133, 240,  43,  97, 189,  83, 240,  86],\n",
       "       [169, 228,  30,   0, 151, 206, 112, 148, 138,  40],\n",
       "       [103, 133, 139,  47,  96, 252, 222, 170, 132,  81],\n",
       "       [ 80, 181, 204, 131, 163, 164, 140, 212, 186,  78],\n",
       "       [213,  28,  90,  90, 165, 195, 162, 125, 224,  70],\n",
       "       [172, 225, 228, 215, 125,  59,  56, 111, 221, 121],\n",
       "       [ 93, 253, 248,  24,  22,  88, 104, 158,  28, 179],\n",
       "       [106, 137, 148, 146, 242,  11, 214, 137,  53, 117],\n",
       "       [ 13, 124, 248, 122,  46, 168,  68, 197,  64, 138]])"
      ]
     },
     "execution_count": 8,
     "metadata": {},
     "output_type": "execute_result"
    }
   ],
   "source": [
    "r=np.random.randint(0,255,(10,10))\n",
    "r"
   ]
  },
  {
   "cell_type": "markdown",
   "id": "303e2527-3318-418b-a3e9-fbcf959addc3",
   "metadata": {},
   "source": [
    "ilk pkselden son piksele kadar değerler birer artan görüntü üretmek için "
   ]
  },
  {
   "cell_type": "code",
   "execution_count": 31,
   "id": "a5215ca5-170d-4c52-bc40-53cabeeb2de9",
   "metadata": {},
   "outputs": [
    {
     "data": {
      "text/plain": [
       "array([[ 0,  1,  2,  3,  4,  5,  6,  7,  8,  9],\n",
       "       [10, 11, 12, 13, 14, 15, 16, 17, 18, 19],\n",
       "       [20, 21, 22, 23, 24, 25, 26, 27, 28, 29],\n",
       "       [30, 31, 32, 33, 34, 35, 36, 37, 38, 39],\n",
       "       [40, 41, 42, 43, 44, 45, 46, 47, 48, 49],\n",
       "       [50, 51, 52, 53, 54, 55, 56, 57, 58, 59],\n",
       "       [60, 61, 62, 63, 64, 65, 66, 67, 68, 69],\n",
       "       [70, 71, 72, 73, 74, 75, 76, 77, 78, 79],\n",
       "       [80, 81, 82, 83, 84, 85, 86, 87, 88, 89],\n",
       "       [90, 91, 92, 93, 94, 95, 96, 97, 98, 99]])"
      ]
     },
     "execution_count": 31,
     "metadata": {},
     "output_type": "execute_result"
    }
   ],
   "source": [
    "u = np.arange(0,100).reshape(10,10)\n",
    "u"
   ]
  },
  {
   "cell_type": "markdown",
   "id": "7ccda9a4-0353-46c1-bd3b-f036703ae392",
   "metadata": {},
   "source": [
    "bellketeki görüntüleri ifade eden diizleri göstermek için pyplot kütüphanesi kullanılabilir. Bu kütüphanedeki imshow metodu kullanılabilir. bu metot varsayılan olarak renkli görüntü göstereceği için cmap parametresine 'gray' değeri atayarak doğru görüntü gösterimi sağlanılabilir.\n",
    "( https://matplotlib.org/stable/api/_as_gen/matplotlib.pyplot.imshow.html )\n",
    "%matplotlib inline satırı görüntünü farklı bir pencerede değilde jupyter lab içinde gösterilmesini sağlıyor."
   ]
  },
  {
   "cell_type": "code",
   "execution_count": 10,
   "id": "cad8484e-2f9f-4bdf-8697-c60a83935b4f",
   "metadata": {},
   "outputs": [],
   "source": [
    "import matplotlib.pyplot as plt\n",
    "%matplotlib inline"
   ]
  },
  {
   "cell_type": "code",
   "execution_count": 11,
   "id": "b8282ca2-b61e-439e-b079-c5540f3c26ae",
   "metadata": {},
   "outputs": [
    {
     "data": {
      "text/plain": [
       "<matplotlib.image.AxesImage at 0x2a152727910>"
      ]
     },
     "execution_count": 11,
     "metadata": {},
     "output_type": "execute_result"
    },
    {
     "data": {
      "image/png": "[encoded data removed]",
      "text/plain": [
       "<Figure size 640x480 with 1 Axes>"
      ]
     },
     "metadata": {},
     "output_type": "display_data"
    }
   ],
   "source": [
    "plt.imshow(r,cmap='gray')"
   ]
  },
  {
   "cell_type": "code",
   "execution_count": 45,
   "id": "4e4629e8-5100-4008-abb0-732cc66bd97f",
   "metadata": {},
   "outputs": [
    {
     "data": {
      "text/plain": [
       "<matplotlib.image.AxesImage at 0x2a15776bc50>"
      ]
     },
     "execution_count": 45,
     "metadata": {},
     "output_type": "execute_result"
    },
    {
     "data": {
      "image/png": "[encoded data removed]",
      "text/plain": [
       "<Figure size 640x480 with 1 Axes>"
      ]
     },
     "metadata": {},
     "output_type": "display_data"
    }
   ],
   "source": [
    "plt.imshow(u,cmap='gray',vmin=0,vmax=255)"
   ]
  },
  {
   "cell_type": "markdown",
   "id": "c01ec52d-efe5-4708-b05a-0a7b52640b9b",
   "metadata": {},
   "source": [
    "sıklıkla görüntünün boyutunu öğrenmek isteriz. Bunun için shape kullanılabilir. bu bize satırda ve sütünda ne kadar piksel olduğunu veren bir tuple dönderir"
   ]
  },
  {
   "cell_type": "code",
   "execution_count": 13,
   "id": "2a2cbba2-619b-4b95-95bd-31e6a7bcea33",
   "metadata": {},
   "outputs": [
    {
     "data": {
      "text/plain": [
       "(10, 10)"
      ]
     },
     "execution_count": 13,
     "metadata": {},
     "output_type": "execute_result"
    }
   ],
   "source": [
    "u.shape"
   ]
  },
  {
   "cell_type": "code",
   "execution_count": 14,
   "id": "fe06d6d1-15b7-426d-9619-b31ec59079a7",
   "metadata": {},
   "outputs": [
    {
     "data": {
      "text/plain": [
       "10"
      ]
     },
     "execution_count": 14,
     "metadata": {},
     "output_type": "execute_result"
    }
   ],
   "source": [
    "u.shape[0]"
   ]
  },
  {
   "cell_type": "markdown",
   "id": "294c3725-63f9-43a4-8ba4-766ecaa4b5e9",
   "metadata": {},
   "source": [
    "görüntü işlemede istenilen piksellere erişmek çok önemlidir. bunu için bir görüntü koordinatları alan piksel değerlerini veren bir fonksiyon gibidir (f(x,y) = p). bir bölgeyi görüntüden almak istersek numpy tarama işlemlerini kullanırız. herhangi bir piksel değeri için aşağıdaki şekilde erişim mümkün "
   ]
  },
  {
   "cell_type": "code",
   "execution_count": 15,
   "id": "3aef9a0c-5d57-4395-b804-8afe2d1810e0",
   "metadata": {},
   "outputs": [
    {
     "data": {
      "text/plain": [
       "11"
      ]
     },
     "execution_count": 15,
     "metadata": {},
     "output_type": "execute_result"
    }
   ],
   "source": [
    "u[1,1]"
   ]
  },
  {
   "cell_type": "code",
   "execution_count": 16,
   "id": "b533b931-81e4-487b-b8f6-94eb52f0bd4b",
   "metadata": {},
   "outputs": [
    {
     "data": {
      "text/plain": [
       "array([[ 0,  1,  2,  3,  4,  5,  6,  7,  8,  9],\n",
       "       [10, 11, 12, 13, 14, 15, 16, 17, 18, 19],\n",
       "       [20, 21, 22, 23, 24, 25, 26, 27, 28, 29],\n",
       "       [30, 31, 32, 33, 34, 35, 36, 37, 38, 39],\n",
       "       [40, 41, 42, 43, 44, 45, 46, 47, 48, 49],\n",
       "       [50, 51, 52, 53, 54, 55, 56, 57, 58, 59],\n",
       "       [60, 61, 62, 63, 64, 65, 66, 67, 68, 69],\n",
       "       [70, 71, 72, 73, 74, 75, 76, 77, 78, 79],\n",
       "       [80, 81, 82, 83, 84, 85, 86, 87, 88, 89],\n",
       "       [90, 91, 92, 93, 94, 95, 96, 97, 98, 99]])"
      ]
     },
     "execution_count": 16,
     "metadata": {},
     "output_type": "execute_result"
    }
   ],
   "source": [
    "u"
   ]
  },
  {
   "cell_type": "markdown",
   "id": "60b85c37-726a-406b-92d6-bb34d950675d",
   "metadata": {},
   "source": [
    "indis olarak -1 verir isek son elemanı, -2 ise sondan ikinci elemanı ifade eder.  "
   ]
  },
  {
   "cell_type": "code",
   "execution_count": 17,
   "id": "36506d93-d533-49cf-a613-8554d2c4f79f",
   "metadata": {},
   "outputs": [
    {
     "data": {
      "text/plain": [
       "99"
      ]
     },
     "execution_count": 17,
     "metadata": {},
     "output_type": "execute_result"
    }
   ],
   "source": [
    "u[-1,-1]"
   ]
  },
  {
   "cell_type": "markdown",
   "id": "0169c32e-dd6c-4f7e-9d0a-21d0a1ab1726",
   "metadata": {},
   "source": [
    "bir bölgeyi taramak için : kullanılır. bunun solundaki pikselden başlar sağıdaki piksele kadar tarar. Ancak son pikseli dahil etmez. pythonda insdislerin 0 dan başladığını unutmayın! dizinin son elemanına kadar taramak isterseniz ve buraya -1 yazarsanız son elemanı bu sebepten almayacaktır. : nın sağ tarafını boş bırakırsanız dizinin son elemanına kadar tarama yapar"
   ]
  },
  {
   "cell_type": "code",
   "execution_count": 18,
   "id": "b104a344-4186-4eb0-8095-a32e67ca681e",
   "metadata": {},
   "outputs": [
    {
     "data": {
      "text/plain": [
       "array([[12, 13],\n",
       "       [22, 23],\n",
       "       [32, 33],\n",
       "       [42, 43]])"
      ]
     },
     "execution_count": 18,
     "metadata": {},
     "output_type": "execute_result"
    }
   ],
   "source": [
    "u[1:5,2:4]"
   ]
  },
  {
   "cell_type": "markdown",
   "id": "347daf24-1729-4c48-9b77-1189afcb98b2",
   "metadata": {},
   "source": [
    "taradığımız bölgeye bir değer atamamız da mümkündür. eğer bu bölgedeki her piksel için farklı değer atanacak ise öncelikle bölge ile aynı boyutta dizi oluşturulmalıdır"
   ]
  },
  {
   "cell_type": "code",
   "execution_count": 19,
   "id": "39c3d52b-a018-485e-8d68-332f8590c815",
   "metadata": {},
   "outputs": [],
   "source": [
    "u[1:5,2:4]=255"
   ]
  },
  {
   "cell_type": "code",
   "execution_count": 20,
   "id": "58013861-4fab-4e3e-ad79-8102ee60a0eb",
   "metadata": {},
   "outputs": [
    {
     "data": {
      "text/plain": [
       "array([[  0,   1,   2,   3,   4,   5,   6,   7,   8,   9],\n",
       "       [ 10,  11, 255, 255,  14,  15,  16,  17,  18,  19],\n",
       "       [ 20,  21, 255, 255,  24,  25,  26,  27,  28,  29],\n",
       "       [ 30,  31, 255, 255,  34,  35,  36,  37,  38,  39],\n",
       "       [ 40,  41, 255, 255,  44,  45,  46,  47,  48,  49],\n",
       "       [ 50,  51,  52,  53,  54,  55,  56,  57,  58,  59],\n",
       "       [ 60,  61,  62,  63,  64,  65,  66,  67,  68,  69],\n",
       "       [ 70,  71,  72,  73,  74,  75,  76,  77,  78,  79],\n",
       "       [ 80,  81,  82,  83,  84,  85,  86,  87,  88,  89],\n",
       "       [ 90,  91,  92,  93,  94,  95,  96,  97,  98,  99]])"
      ]
     },
     "execution_count": 20,
     "metadata": {},
     "output_type": "execute_result"
    }
   ],
   "source": [
    "u"
   ]
  },
  {
   "cell_type": "code",
   "execution_count": 21,
   "id": "ca0b6923-740c-43b5-b64d-490772f7145a",
   "metadata": {},
   "outputs": [
    {
     "data": {
      "text/plain": [
       "<matplotlib.image.AxesImage at 0x2a15391bb50>"
      ]
     },
     "execution_count": 21,
     "metadata": {},
     "output_type": "execute_result"
    },
    {
     "data": {
      "image/png": "[encoded data removed]",
      "text/plain": [
       "<Figure size 640x480 with 1 Axes>"
      ]
     },
     "metadata": {},
     "output_type": "display_data"
    }
   ],
   "source": [
    "plt.imshow(u,cmap='gray')"
   ]
  },
  {
   "cell_type": "markdown",
   "id": "ed3c5419-cfac-4b55-a019-a661a0fd5d34",
   "metadata": {},
   "source": [
    "renkli görüntüde 3 kanal vardır. bunun anlamı dizimiz 3 boyutludur. Her kanal için (red green blue) değerler tutacak."
   ]
  },
  {
   "cell_type": "code",
   "execution_count": null,
   "id": "6e8a8707-2d4b-423c-8e8d-b8949c1f1f03",
   "metadata": {
    "scrolled": true,
    "tags": []
   },
   "outputs": [],
   "source": [
    "renkli_g=np.random.randint(0,255,(10,10,3))\n",
    "plt.imshow(renkli_g)\n",
    "renkli_g"
   ]
  },
  {
   "cell_type": "markdown",
   "id": "78f9f420-0b5b-4db1-97f2-64a1425201c9",
   "metadata": {},
   "source": [
    "3 boyutlu veride tarama işlemi yapmak isteseydik"
   ]
  },
  {
   "cell_type": "code",
   "execution_count": null,
   "id": "195680c9-bd9f-4692-9886-9956e5340b33",
   "metadata": {},
   "outputs": [],
   "source": [
    "renkli_g[1,1,:]"
   ]
  },
  {
   "cell_type": "code",
   "execution_count": null,
   "id": "fec3d35c-25b4-45d0-82a0-6e7848149770",
   "metadata": {},
   "outputs": [],
   "source": [
    "part = renkli_g[1:3,2:4,:]\n",
    "plt.imshow(part)\n",
    "part"
   ]
  },
  {
   "cell_type": "code",
   "execution_count": null,
   "id": "5d51a6b6-5bce-4ff6-b65f-dee0b7273606",
   "metadata": {},
   "outputs": [],
   "source": []
  }
 ],
 "metadata": {
  "kernelspec": {
   "display_name": "Python 3 (ipykernel)",
   "language": "python",
   "name": "python3"
  },
  "language_info": {
   "codemirror_mode": {
    "name": "ipython",
    "version": 3
   },
   "file_extension": ".py",
   "mimetype": "text/x-python",
   "name": "python",
   "nbconvert_exporter": "python",
   "pygments_lexer": "ipython3",
   "version": "3.11.0"
  }
 },
 "nbformat": 4,
 "nbformat_minor": 5
}
